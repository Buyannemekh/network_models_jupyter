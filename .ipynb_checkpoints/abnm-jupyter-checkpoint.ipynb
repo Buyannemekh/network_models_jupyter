{
 "cells": [
  {
   "cell_type": "markdown",
   "metadata": {},
   "source": [
    "# Agent-based Network Model\n",
    "Buyannemekh Munkhbat\n",
    "\n",
    "Agent based model"
   ]
  },
  {
   "cell_type": "code",
   "execution_count": 2,
   "metadata": {
    "collapsed": true
   },
   "outputs": [],
   "source": [
    "from ipywidgets import interact\n",
    "%matplotlib inline\n",
    "import matplotlib.pyplot as plt\n",
    "import networkx as nx\n",
    "import collections\n",
    "import warnings\n",
    "warnings.filterwarnings('ignore')"
   ]
  },
  {
   "cell_type": "markdown",
   "metadata": {},
   "source": [
    "## Infection state class that keeps track of infected persons"
   ]
  },
  {
   "cell_type": "code",
   "execution_count": 3,
   "metadata": {
    "collapsed": true
   },
   "outputs": [],
   "source": [
    "import random\n",
    "import numpy as np\n",
    "\n",
    "\n",
    "class InfectionState:\n",
    "    def __init__(self, number_of_people, number_of_initial_infected, abnm:bool):\n",
    "        self.number_of_people = number_of_people\n",
    "        self.number_of_initial_infected = number_of_initial_infected\n",
    "        self.abnm = abnm\n",
    "        self.old_infected = set()\n",
    "        self.newly_infected = set()\n",
    "        self.discovered = set()\n",
    "        self.initally_infected = set()\n",
    "        self.num_discovered = 0\n",
    "        self.color_map = [\"green\"] * self.number_of_people\n",
    "        self.add_initial_infected_people()\n",
    "\n",
    "    def add_initial_infected_people(self):\n",
    "        # This is when pa_comm\n",
    "        infected_indexes = random.sample(range(0, self.number_of_people),\n",
    "                                            int(self.number_of_initial_infected))\n",
    "        self.newly_infected = set(infected_indexes)\n",
    "        self.initally_infected = set(infected_indexes)\n",
    "\n",
    "    def get_old_infected(self):\n",
    "        return self.old_infected\n",
    "\n",
    "    def get_num_infected(self):\n",
    "        return len(self.old_infected)\n",
    "\n",
    "    def get_newly_infected(self):\n",
    "        return self.newly_infected\n",
    "\n",
    "    def get_num_discovered(self):\n",
    "        return len(self.discovered)\n",
    "\n",
    "    def get_discovered(self):\n",
    "        return self.discovered\n",
    "\n",
    "    def make_discovered(self, index_of_person: int):\n",
    "        self.discovered.add(index_of_person)\n",
    "\n",
    "    def set_num_discovered(self, num_discovered: int):\n",
    "        self.num_discovered = num_discovered\n",
    "\n",
    "    def make_infected(self, index_of_person: int):\n",
    "        self.newly_infected.add(index_of_person)\n",
    "        if index_of_person not in self.discovered:\n",
    "            self.make_discovered(index_of_person=index_of_person)\n",
    "\n",
    "    def is_old_infected(self, index_of_person: int):\n",
    "        return index_of_person in self.old_infected\n",
    "\n",
    "    def is_infected(self, index_of_person: int):\n",
    "        return (index_of_person in self.newly_infected) or (index_of_person in self.old_infected)\n",
    "\n",
    "    def close_newly_infected(self):\n",
    "        self.old_infected.update(self.newly_infected)\n",
    "        self.newly_infected = set()"
   ]
  },
  {
   "cell_type": "markdown",
   "metadata": {},
   "source": [
    "## Infection progressor class that determines next infected persons"
   ]
  },
  {
   "cell_type": "code",
   "execution_count": 4,
   "metadata": {
    "collapsed": true
   },
   "outputs": [],
   "source": [
    "from networkx.classes.graph import Graph\n",
    "class InfectionProgressor:\n",
    "\n",
    "    def __init__(self, beta: float, graph: Graph , infection_state: InfectionState):\n",
    "        self.beta = beta\n",
    "        self.graph = graph\n",
    "        self.infection_state = infection_state\n",
    "        self.transmitted_edges = []\n",
    "\n",
    "    def progress_all(self):\n",
    "        for node in self.infection_state.get_old_infected():\n",
    "            for nbr in self.graph.neighbors(node):\n",
    "                transmitted_edge = self.progress(nbr)\n",
    "                if transmitted_edge:\n",
    "                    self.transmitted_edges.append(transmitted_edge)\n",
    "        return self.transmitted_edges\n",
    "\n",
    "    def progress(self, node):\n",
    "        all_infected_contacts = set()\n",
    "\n",
    "        if self.infection_state.is_infected(node):\n",
    "            return None\n",
    "\n",
    "        for nbr in self.graph[node]:\n",
    "            if self.infection_state.is_old_infected(nbr):\n",
    "                all_infected_contacts.add(nbr)\n",
    "\n",
    "        total_infected_contacts = len(all_infected_contacts)\n",
    "\n",
    "        if total_infected_contacts > 0:\n",
    "            probability_to_infect = self.get_probability_to_infect(total_infected_contacts)\n",
    "\n",
    "            if random.random() < probability_to_infect:\n",
    "                self.infection_state.make_infected(node)\n",
    "                transmitted_node = random.choice(tuple(all_infected_contacts))\n",
    "                transmitted_edge = (transmitted_node, node)\n",
    "                return transmitted_edge\n",
    "            else:\n",
    "                return None\n",
    "        else:\n",
    "            return None\n",
    "\n",
    "    def get_probability_to_infect(self, total_infected_contacts):\n",
    "        return 1-(1-self.beta)**total_infected_contacts"
   ]
  },
  {
   "cell_type": "markdown",
   "metadata": {},
   "source": [
    "## Get degree distribution of the network and plot "
   ]
  },
  {
   "cell_type": "code",
   "execution_count": 5,
   "metadata": {
    "collapsed": true
   },
   "outputs": [],
   "source": [
    "def get_degree_distribution(G):\n",
    "    degree_dict = G.degree()\n",
    "    degree_sequence = sorted([d for n, d in degree_dict], reverse=False)\n",
    "    degreeCount = collections.Counter(degree_sequence)\n",
    "    deg, cnt = zip(*degreeCount.items())\n",
    "    return deg, cnt\n",
    "\n",
    "def plot_degree_distribution(deg, cnt):\n",
    "    plt.figure()\n",
    "    plt.plot(deg, cnt)\n",
    "    plt.title(\"Degree distribution of the graph\")"
   ]
  },
  {
   "cell_type": "markdown",
   "metadata": {},
   "source": [
    "## Existing random graph generators"
   ]
  },
  {
   "cell_type": "code",
   "execution_count": 6,
   "metadata": {
    "collapsed": true
   },
   "outputs": [],
   "source": [
    "# wrap a few graph generation functions so they have the same signature\n",
    "def powerlaw_cluster(n, m, k, p):\n",
    "    return nx.powerlaw_cluster_graph(n, m, p)\n",
    "\n",
    "def erdos_renyi(n, m, k, p):\n",
    "    return nx.erdos_renyi_graph(n, p)\n",
    "\n",
    "def newman_watts_strogatz(n, m, k, p):\n",
    "    return nx.newman_watts_strogatz_graph(n, k, p)\n",
    "\n",
    "def plot_random_graph(n, m, k, p, generator):\n",
    "    g = generator(n, m, k, p)\n",
    "    nx.draw(g)\n",
    "    plt.show()   \n",
    "    deg, cnt = get_degree_distribution(g)\n",
    "    plot_degree_distribution(deg, cnt)"
   ]
  },
  {
   "cell_type": "markdown",
   "metadata": {},
   "source": [
    "## The main ABNM class that initializes and runs the simulation"
   ]
  },
  {
   "cell_type": "code",
   "execution_count": 7,
   "metadata": {
    "collapsed": true
   },
   "outputs": [],
   "source": [
    "class ABNMExperiment:\n",
    "    def __init__(self, model, num_nodes, num_edges, p,\n",
    "                 number_of_initial_infected,\n",
    "                 population_p,\n",
    "                 beta,\n",
    "                 verbose,\n",
    "                 plot):\n",
    "        # Model and initial settings\n",
    "        self.model = model\n",
    "        self.num_nodes = num_nodes\n",
    "        self.num_edges = num_edges\n",
    "        self.p = p\n",
    "        self.number_of_initial_infected = number_of_initial_infected\n",
    "\n",
    "        # Infection properties\n",
    "        self.population_p = population_p\n",
    "        self.beta = beta\n",
    "        self.infection_state = InfectionState(number_of_people=self.num_nodes,\n",
    "                                              number_of_initial_infected=self.number_of_initial_infected,\n",
    "                                              abnm=True)\n",
    "        # Graph properties\n",
    "        self.graph = self.generate_graph()\n",
    "        self.infection_history = []\n",
    "        self.avg_degrees_new = []\n",
    "        self.avg_clustering_new = []\n",
    "\n",
    "        self.verbose = verbose\n",
    "        self.plot = plot\n",
    "    \n",
    "    def generate_graph(self):\n",
    "        if self.model == \"powerlaw_cluster\":\n",
    "            pw_cluster = nx.powerlaw_cluster_graph(n=self.num_nodes, m=self.num_edges, p=self.p)\n",
    "            return pw_cluster\n",
    "        if self.model == \"ba\":\n",
    "            ba = nx.barabasi_albert_graph(n=self.num_nodes, m=self.num_edges)\n",
    "            return ba\n",
    "        if self.model == \"Gnm\":\n",
    "            gnm = nx.gnm_random_graph(n=self.num_nodes, m=self.num_edges)\n",
    "            return gnm\n",
    "    \n",
    "    def run(self):\n",
    "\n",
    "        degree_sequence = self.graph.degree\n",
    "        clustering_sequence = nx.clustering(self.graph)\n",
    "\n",
    "        position = nx.spring_layout(self.graph)\n",
    "        transmitted_edges = []\n",
    "\n",
    "        while len(self.infection_state.get_old_infected()) < self.population_p*self.num_nodes:\n",
    "\n",
    "            newly_infected = self.infection_state.get_newly_infected()\n",
    "\n",
    "            # add newly infected to old infected\n",
    "            self.infection_state.close_newly_infected()\n",
    "            self.infection_history.append(self.infection_state.get_num_infected())\n",
    "\n",
    "            # start infection progress\n",
    "            infection_progressor = InfectionProgressor(beta=self.beta,\n",
    "                                                       graph=self.graph,\n",
    "                                                       infection_state=self.infection_state)\n",
    "\n",
    "            transmitted_edges_t = infection_progressor.progress_all()\n",
    "            transmitted_edges += transmitted_edges_t\n",
    "\n",
    "        print(\"Total num infected {}\".format(self.infection_state.get_num_infected()))\n",
    "        "
   ]
  },
  {
   "cell_type": "markdown",
   "metadata": {},
   "source": [
    "## Initialize the ABNM class \n",
    "Initialize the ABNM class with input parameters. This will produce the resulting graph and number of infected persons plot."
   ]
  },
  {
   "cell_type": "code",
   "execution_count": 8,
   "metadata": {},
   "outputs": [
    {
     "name": "stdout",
     "output_type": "stream",
     "text": [
      "Total num infected 200\n"
     ]
    },
    {
     "data": {
      "image/png": "[encoded data removed]",
      "text/plain": [
       "<Figure size 432x288 with 1 Axes>"
      ]
     },
     "metadata": {},
     "output_type": "display_data"
    },
    {
     "name": "stdout",
     "output_type": "stream",
     "text": [
      "[2, 4, 4, 6, 18, 33, 54, 89, 113, 132, 151, 161, 171, 178, 180, 185, 190, 191, 192, 196, 198, 200]\n"
     ]
    },
    {
     "data": {
      "image/png": "[encoded data removed]",
      "text/plain": [
       "<Figure size 432x288 with 1 Axes>"
      ]
     },
     "metadata": {},
     "output_type": "display_data"
    }
   ],
   "source": [
    "abnm = ABNMExperiment(model=\"powerlaw_cluster\", num_nodes=200, num_edges=2, p=0.5,\n",
    "                      number_of_initial_infected=2,\n",
    "                      population_p=1,\n",
    "                      beta=0.1,\n",
    "                      verbose=False,\n",
    "                      plot=False)\n",
    "abnm.run()\n",
    "nx.draw(abnm.graph)\n",
    "plt.show()\n",
    "print(abnm.infection_history)\n",
    "plt.plot(abnm.infection_history)\n",
    "plt.show()"
   ]
  },
  {
   "cell_type": "markdown",
   "metadata": {},
   "source": [
    "## Interactive random graph generator "
   ]
  },
  {
   "cell_type": "code",
   "execution_count": 9,
   "metadata": {},
   "outputs": [
    {
     "data": {
      "application/vnd.jupyter.widget-view+json": {
       "model_id": "ac5e50c847434f55bce02f89f632d6e1",
       "version_major": 2,
       "version_minor": 0
      },
      "text/plain": [
       "A Jupyter Widget"
      ]
     },
     "metadata": {},
     "output_type": "display_data"
    }
   ],
   "source": [
    "interact(plot_random_graph, n=(10,100), m=(1,10), k=(1,10), p=(0.0, 1.0, 0.001),\n",
    "         generator={\n",
    "             'power law': powerlaw_cluster,\n",
    "             'Newman-Watts-Strogatz': newman_watts_strogatz,\n",
    "             u'Erdős-Rényi': erdos_renyi,\n",
    "         });"
   ]
  },
  {
   "cell_type": "code",
   "execution_count": null,
   "metadata": {
    "collapsed": true
   },
   "outputs": [],
   "source": []
  }
 ],
 "metadata": {
  "kernelspec": {
   "display_name": "Python 3",
   "language": "python",
   "name": "python3"
  },
  "language_info": {
   "codemirror_mode": {
    "name": "ipython",
    "version": 3
   },
   "file_extension": ".py",
   "mimetype": "text/x-python",
   "name": "python",
   "nbconvert_exporter": "python",
   "pygments_lexer": "ipython3",
   "version": "3.6.8"
  }
 },
 "nbformat": 4,
 "nbformat_minor": 2
}
